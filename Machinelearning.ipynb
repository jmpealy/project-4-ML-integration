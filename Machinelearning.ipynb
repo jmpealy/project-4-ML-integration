{
 "cells": [
  {
   "cell_type": "code",
   "execution_count": 102,
   "metadata": {},
   "outputs": [],
   "source": [
    "# Import required libraries\n",
    "import numpy as np\n",
    "import pandas as pd\n",
    "import hvplot.pandas\n",
    "from pathlib import Path\n",
    "from sklearn.model_selection import train_test_split\n",
    "from sklearn.linear_model import LinearRegression\n",
    "from sklearn.metrics import mean_squared_error\n",
    "import matplotlib.pyplot as plt\n",
    "from matplotlib.ticker import FuncFormatter\n",
    "from sklearn.preprocessing import StandardScaler\n",
    "from sklearn.metrics import r2_score\n",
    "import seaborn as sns\n",
    "from scipy import stats"
   ]
  },
  {
   "cell_type": "code",
   "execution_count": 80,
   "metadata": {},
   "outputs": [
    {
     "data": {
      "text/html": [
       "<div>\n",
       "<style scoped>\n",
       "    .dataframe tbody tr th:only-of-type {\n",
       "        vertical-align: middle;\n",
       "    }\n",
       "\n",
       "    .dataframe tbody tr th {\n",
       "        vertical-align: top;\n",
       "    }\n",
       "\n",
       "    .dataframe thead th {\n",
       "        text-align: right;\n",
       "    }\n",
       "</style>\n",
       "<table border=\"1\" class=\"dataframe\">\n",
       "  <thead>\n",
       "    <tr style=\"text-align: right;\">\n",
       "      <th></th>\n",
       "      <th>Row ID</th>\n",
       "      <th>Order ID</th>\n",
       "      <th>Order Date</th>\n",
       "      <th>Ship Date</th>\n",
       "      <th>Ship Mode</th>\n",
       "      <th>Customer ID</th>\n",
       "      <th>Customer Name</th>\n",
       "      <th>Segment</th>\n",
       "      <th>Country</th>\n",
       "      <th>City</th>\n",
       "      <th>...</th>\n",
       "      <th>Category</th>\n",
       "      <th>Sub-Category</th>\n",
       "      <th>Product Name</th>\n",
       "      <th>Sales</th>\n",
       "      <th>Quantity</th>\n",
       "      <th>Discount</th>\n",
       "      <th>Profit</th>\n",
       "      <th>Unit Price</th>\n",
       "      <th>Price without discount</th>\n",
       "      <th>Unit Cost</th>\n",
       "    </tr>\n",
       "  </thead>\n",
       "  <tbody>\n",
       "    <tr>\n",
       "      <th>0</th>\n",
       "      <td>1</td>\n",
       "      <td>CA-2016-152156</td>\n",
       "      <td>11/8/2016</td>\n",
       "      <td>11/11/2016</td>\n",
       "      <td>Second Class</td>\n",
       "      <td>CG-12520</td>\n",
       "      <td>Claire Gute</td>\n",
       "      <td>Consumer</td>\n",
       "      <td>United States</td>\n",
       "      <td>Henderson</td>\n",
       "      <td>...</td>\n",
       "      <td>Furniture</td>\n",
       "      <td>Bookcases</td>\n",
       "      <td>Bush Somerset Collection Bookcase</td>\n",
       "      <td>261.9600</td>\n",
       "      <td>2</td>\n",
       "      <td>0%</td>\n",
       "      <td>41.9136</td>\n",
       "      <td>130.9800</td>\n",
       "      <td>130.98</td>\n",
       "      <td>20.9568</td>\n",
       "    </tr>\n",
       "    <tr>\n",
       "      <th>1</th>\n",
       "      <td>2</td>\n",
       "      <td>CA-2016-152156</td>\n",
       "      <td>11/8/2016</td>\n",
       "      <td>11/11/2016</td>\n",
       "      <td>Second Class</td>\n",
       "      <td>CG-12520</td>\n",
       "      <td>Claire Gute</td>\n",
       "      <td>Consumer</td>\n",
       "      <td>United States</td>\n",
       "      <td>Henderson</td>\n",
       "      <td>...</td>\n",
       "      <td>Furniture</td>\n",
       "      <td>Chairs</td>\n",
       "      <td>Hon Deluxe Fabric Upholstered Stacking Chairs,...</td>\n",
       "      <td>731.9400</td>\n",
       "      <td>3</td>\n",
       "      <td>0%</td>\n",
       "      <td>219.5820</td>\n",
       "      <td>243.9800</td>\n",
       "      <td>243.98</td>\n",
       "      <td>73.1940</td>\n",
       "    </tr>\n",
       "    <tr>\n",
       "      <th>2</th>\n",
       "      <td>3</td>\n",
       "      <td>CA-2016-138688</td>\n",
       "      <td>6/12/2016</td>\n",
       "      <td>6/16/2016</td>\n",
       "      <td>Second Class</td>\n",
       "      <td>DV-13045</td>\n",
       "      <td>Darrin Van Huff</td>\n",
       "      <td>Corporate</td>\n",
       "      <td>United States</td>\n",
       "      <td>Los Angeles</td>\n",
       "      <td>...</td>\n",
       "      <td>Office Supplies</td>\n",
       "      <td>Labels</td>\n",
       "      <td>Self-Adhesive Address Labels for Typewriters b...</td>\n",
       "      <td>14.6200</td>\n",
       "      <td>2</td>\n",
       "      <td>0%</td>\n",
       "      <td>6.8714</td>\n",
       "      <td>7.3100</td>\n",
       "      <td>7.31</td>\n",
       "      <td>3.4357</td>\n",
       "    </tr>\n",
       "    <tr>\n",
       "      <th>3</th>\n",
       "      <td>4</td>\n",
       "      <td>US-2015-108966</td>\n",
       "      <td>10/11/2015</td>\n",
       "      <td>10/18/2015</td>\n",
       "      <td>Standard Class</td>\n",
       "      <td>SO-20335</td>\n",
       "      <td>Sean O'Donnell</td>\n",
       "      <td>Consumer</td>\n",
       "      <td>United States</td>\n",
       "      <td>Fort Lauderdale</td>\n",
       "      <td>...</td>\n",
       "      <td>Furniture</td>\n",
       "      <td>Tables</td>\n",
       "      <td>Bretford CR4500 Series Slim Rectangular Table</td>\n",
       "      <td>957.5775</td>\n",
       "      <td>5</td>\n",
       "      <td>45%</td>\n",
       "      <td>-383.0310</td>\n",
       "      <td>191.5155</td>\n",
       "      <td>348.21</td>\n",
       "      <td>80.0883</td>\n",
       "    </tr>\n",
       "    <tr>\n",
       "      <th>4</th>\n",
       "      <td>5</td>\n",
       "      <td>US-2015-108966</td>\n",
       "      <td>10/11/2015</td>\n",
       "      <td>10/18/2015</td>\n",
       "      <td>Standard Class</td>\n",
       "      <td>SO-20335</td>\n",
       "      <td>Sean O'Donnell</td>\n",
       "      <td>Consumer</td>\n",
       "      <td>United States</td>\n",
       "      <td>Fort Lauderdale</td>\n",
       "      <td>...</td>\n",
       "      <td>Office Supplies</td>\n",
       "      <td>Storage</td>\n",
       "      <td>Eldon Fold 'N Roll Cart System</td>\n",
       "      <td>22.3680</td>\n",
       "      <td>2</td>\n",
       "      <td>20%</td>\n",
       "      <td>2.5164</td>\n",
       "      <td>11.1840</td>\n",
       "      <td>13.98</td>\n",
       "      <td>4.0542</td>\n",
       "    </tr>\n",
       "  </tbody>\n",
       "</table>\n",
       "<p>5 rows × 24 columns</p>\n",
       "</div>"
      ],
      "text/plain": [
       "   Row ID        Order ID  Order Date   Ship Date       Ship Mode Customer ID  \\\n",
       "0       1  CA-2016-152156   11/8/2016  11/11/2016    Second Class    CG-12520   \n",
       "1       2  CA-2016-152156   11/8/2016  11/11/2016    Second Class    CG-12520   \n",
       "2       3  CA-2016-138688   6/12/2016   6/16/2016    Second Class    DV-13045   \n",
       "3       4  US-2015-108966  10/11/2015  10/18/2015  Standard Class    SO-20335   \n",
       "4       5  US-2015-108966  10/11/2015  10/18/2015  Standard Class    SO-20335   \n",
       "\n",
       "     Customer Name    Segment        Country             City  ...  \\\n",
       "0      Claire Gute   Consumer  United States        Henderson  ...   \n",
       "1      Claire Gute   Consumer  United States        Henderson  ...   \n",
       "2  Darrin Van Huff  Corporate  United States      Los Angeles  ...   \n",
       "3   Sean O'Donnell   Consumer  United States  Fort Lauderdale  ...   \n",
       "4   Sean O'Donnell   Consumer  United States  Fort Lauderdale  ...   \n",
       "\n",
       "          Category  Sub-Category  \\\n",
       "0        Furniture     Bookcases   \n",
       "1        Furniture        Chairs   \n",
       "2  Office Supplies        Labels   \n",
       "3        Furniture        Tables   \n",
       "4  Office Supplies       Storage   \n",
       "\n",
       "                                        Product Name     Sales Quantity  \\\n",
       "0                  Bush Somerset Collection Bookcase  261.9600        2   \n",
       "1  Hon Deluxe Fabric Upholstered Stacking Chairs,...  731.9400        3   \n",
       "2  Self-Adhesive Address Labels for Typewriters b...   14.6200        2   \n",
       "3      Bretford CR4500 Series Slim Rectangular Table  957.5775        5   \n",
       "4                     Eldon Fold 'N Roll Cart System   22.3680        2   \n",
       "\n",
       "  Discount    Profit  Unit Price  Price without discount Unit Cost  \n",
       "0       0%   41.9136    130.9800                  130.98   20.9568  \n",
       "1       0%  219.5820    243.9800                  243.98   73.1940  \n",
       "2       0%    6.8714      7.3100                    7.31    3.4357  \n",
       "3      45% -383.0310    191.5155                  348.21   80.0883  \n",
       "4      20%    2.5164     11.1840                   13.98    4.0542  \n",
       "\n",
       "[5 rows x 24 columns]"
      ]
     },
     "execution_count": 80,
     "metadata": {},
     "output_type": "execute_result"
    }
   ],
   "source": [
    "# Read the sales data\n",
    "df = pd.read_csv(\"resources/store_data.csv\")\n",
    "# Display sample data\n",
    "df.head()"
   ]
  },
  {
   "cell_type": "code",
   "execution_count": 81,
   "metadata": {},
   "outputs": [
    {
     "data": {
      "text/plain": [
       "Row ID                    9994\n",
       "Order ID                  5009\n",
       "Order Date                1237\n",
       "Ship Date                 1334\n",
       "Ship Mode                    4\n",
       "Customer ID                793\n",
       "Customer Name              793\n",
       "Segment                      3\n",
       "Country                      1\n",
       "City                       531\n",
       "State                       49\n",
       "Postal Code                631\n",
       "Region                       4\n",
       "Product ID                1862\n",
       "Category                     3\n",
       "Sub-Category                17\n",
       "Product Name              1850\n",
       "Sales                     5825\n",
       "Quantity                    14\n",
       "Discount                    12\n",
       "Profit                    7287\n",
       "Unit Price                2665\n",
       "Price without discount    1095\n",
       "Unit Cost                 1562\n",
       "dtype: int64"
      ]
     },
     "execution_count": 81,
     "metadata": {},
     "output_type": "execute_result"
    }
   ],
   "source": [
    "# Determine the number of unique values in each column.\n",
    "df.nunique()"
   ]
  },
  {
   "cell_type": "code",
   "execution_count": 82,
   "metadata": {},
   "outputs": [
    {
     "name": "stdout",
     "output_type": "stream",
     "text": [
      "<class 'pandas.core.frame.DataFrame'>\n",
      "RangeIndex: 9994 entries, 0 to 9993\n",
      "Data columns (total 24 columns):\n",
      " #   Column                  Non-Null Count  Dtype  \n",
      "---  ------                  --------------  -----  \n",
      " 0   Row ID                  9994 non-null   int64  \n",
      " 1   Order ID                9994 non-null   object \n",
      " 2   Order Date              9994 non-null   object \n",
      " 3   Ship Date               9994 non-null   object \n",
      " 4   Ship Mode               9994 non-null   object \n",
      " 5   Customer ID             9994 non-null   object \n",
      " 6   Customer Name           9994 non-null   object \n",
      " 7   Segment                 9994 non-null   object \n",
      " 8   Country                 9994 non-null   object \n",
      " 9   City                    9994 non-null   object \n",
      " 10  State                   9994 non-null   object \n",
      " 11  Postal Code             9994 non-null   int64  \n",
      " 12  Region                  9994 non-null   object \n",
      " 13  Product ID              9994 non-null   object \n",
      " 14  Category                9994 non-null   object \n",
      " 15  Sub-Category            9994 non-null   object \n",
      " 16  Product Name            9994 non-null   object \n",
      " 17  Sales                   9994 non-null   float64\n",
      " 18  Quantity                9994 non-null   int64  \n",
      " 19  Discount                9994 non-null   object \n",
      " 20  Profit                  9994 non-null   float64\n",
      " 21  Unit Price              9994 non-null   float64\n",
      " 22  Price without discount  9994 non-null   float64\n",
      " 23  Unit Cost               9994 non-null   float64\n",
      "dtypes: float64(5), int64(3), object(16)\n",
      "memory usage: 1.8+ MB\n"
     ]
    }
   ],
   "source": [
    "#Pull datatypes for the df\n",
    "df.info()"
   ]
  },
  {
   "cell_type": "code",
   "execution_count": 83,
   "metadata": {},
   "outputs": [],
   "source": [
    "df['Order Date'] = pd.to_datetime(df['Order Date'])\n",
    "df['Ship Date'] = pd.to_datetime(df['Ship Date'])\n",
    "\n",
    "df['Order Year'] = df['Order Date'].dt.year\n"
   ]
  },
  {
   "cell_type": "code",
   "execution_count": 84,
   "metadata": {},
   "outputs": [
    {
     "data": {
      "text/html": [
       "<div>\n",
       "<style scoped>\n",
       "    .dataframe tbody tr th:only-of-type {\n",
       "        vertical-align: middle;\n",
       "    }\n",
       "\n",
       "    .dataframe tbody tr th {\n",
       "        vertical-align: top;\n",
       "    }\n",
       "\n",
       "    .dataframe thead th {\n",
       "        text-align: right;\n",
       "    }\n",
       "</style>\n",
       "<table border=\"1\" class=\"dataframe\">\n",
       "  <thead>\n",
       "    <tr style=\"text-align: right;\">\n",
       "      <th></th>\n",
       "      <th>Date</th>\n",
       "      <th>Sales</th>\n",
       "    </tr>\n",
       "  </thead>\n",
       "  <tbody>\n",
       "    <tr>\n",
       "      <th>0</th>\n",
       "      <td>2014-01-31</td>\n",
       "      <td>14236.895</td>\n",
       "    </tr>\n",
       "    <tr>\n",
       "      <th>1</th>\n",
       "      <td>2014-02-28</td>\n",
       "      <td>4519.892</td>\n",
       "    </tr>\n",
       "    <tr>\n",
       "      <th>2</th>\n",
       "      <td>2014-03-31</td>\n",
       "      <td>55691.009</td>\n",
       "    </tr>\n",
       "    <tr>\n",
       "      <th>3</th>\n",
       "      <td>2014-04-30</td>\n",
       "      <td>28295.345</td>\n",
       "    </tr>\n",
       "    <tr>\n",
       "      <th>4</th>\n",
       "      <td>2014-05-31</td>\n",
       "      <td>23648.287</td>\n",
       "    </tr>\n",
       "  </tbody>\n",
       "</table>\n",
       "</div>"
      ],
      "text/plain": [
       "        Date      Sales\n",
       "0 2014-01-31  14236.895\n",
       "1 2014-02-28   4519.892\n",
       "2 2014-03-31  55691.009\n",
       "3 2014-04-30  28295.345\n",
       "4 2014-05-31  23648.287"
      ]
     },
     "execution_count": 84,
     "metadata": {},
     "output_type": "execute_result"
    }
   ],
   "source": [
    "# Split the monthly sales by date\n",
    "sales_data = df[['Order Date', 'Sales']].copy()\n",
    "\n",
    "# Convert 'Order Date' column to datetime\n",
    "df['Order Date'] = pd.to_datetime(df['Order Date'])\n",
    "\n",
    "# Extract year and month\n",
    "sales_data['Year'] = sales_data['Order Date'].dt.year\n",
    "sales_data['Month'] = sales_data['Order Date'].dt.month\n",
    "\n",
    "# Group by year and month and sum the sales\n",
    "sales_data = sales_data.groupby(['Year', 'Month'])['Sales'].sum().reset_index()\n",
    "\n",
    "# Create the 'Date' column with the last day of the month\n",
    "sales_data['Date'] = pd.to_datetime(sales_data[['Year', 'Month']].assign(day=1)) + pd.DateOffset(months=1) - pd.DateOffset(days=1)\n",
    "\n",
    "# Create the 'sales_df' DataFrame\n",
    "sales_df = sales_data[['Date', 'Sales']]\n",
    "\n",
    "# Display the first few rows of the resulting DataFrame\n",
    "sales_df.head()"
   ]
  },
  {
   "cell_type": "code",
   "execution_count": 108,
   "metadata": {},
   "outputs": [
    {
     "name": "stdout",
     "output_type": "stream",
     "text": [
      "         Date       Sales  Year  Month   Z-Score\n",
      "46 2017-11-30  118447.825  2017     11  2.831274\n"
     ]
    }
   ],
   "source": [
    "z_scores = stats.zscore(sales_df['Sales'])\n",
    "sales_df['Z-Score'] = z_scores\n",
    "\n",
    "# Identify outliers based on Z-score\n",
    "outlier_threshold = 2  # Adjust as needed\n",
    "outliers = sales_df[sales_df['Z-Score'].abs() > outlier_threshold]\n",
    "print(outliers)\n",
    "\n",
    "filtered_sales_df = sales_df[abs(sales_df['Z-Score']) <= outlier_threshold]\n"
   ]
  },
  {
   "cell_type": "code",
   "execution_count": 104,
   "metadata": {},
   "outputs": [],
   "source": [
    "Q1 = sales_df['Sales'].quantile(0.25)\n",
    "Q3 = sales_df['Sales'].quantile(0.75)\n",
    "IQR = Q3 - Q1\n",
    "\n",
    "lower_bound = Q1 - 1.5 * IQR\n",
    "upper_bound = Q3 + 1.5 * IQR\n",
    "\n",
    "# Identify outliers based on IQR\n",
    "outliers = sales_df[(sales_df['Sales'] < lower_bound) | (sales_df['Sales'] > upper_bound)]"
   ]
  },
  {
   "cell_type": "code",
   "execution_count": 109,
   "metadata": {},
   "outputs": [
    {
     "name": "stdout",
     "output_type": "stream",
     "text": [
      "<class 'pandas.core.frame.DataFrame'>\n",
      "Int64Index: 47 entries, 0 to 47\n",
      "Data columns (total 5 columns):\n",
      " #   Column   Non-Null Count  Dtype         \n",
      "---  ------   --------------  -----         \n",
      " 0   Date     47 non-null     datetime64[ns]\n",
      " 1   Sales    47 non-null     float64       \n",
      " 2   Year     47 non-null     int64         \n",
      " 3   Month    47 non-null     int64         \n",
      " 4   Z-Score  47 non-null     float64       \n",
      "dtypes: datetime64[ns](1), float64(2), int64(2)\n",
      "memory usage: 2.2 KB\n"
     ]
    }
   ],
   "source": [
    "filtered_sales_df.info()"
   ]
  },
  {
   "cell_type": "code",
   "execution_count": 110,
   "metadata": {},
   "outputs": [],
   "source": [
    "#Preprocess the data\n",
    "filtered_sales_df=sales_df.sort_values('Date')\n",
    "\n"
   ]
  },
  {
   "cell_type": "code",
   "execution_count": 111,
   "metadata": {},
   "outputs": [],
   "source": [
    "X = filtered_sales_df[['Year', 'Month']]  # Features\n",
    "y = filtered_sales_df['Sales']  # Target\n",
    "\n",
    "# Split the data into training and testing sets\n",
    "X_train, X_test, y_train, y_test = train_test_split(X, y, test_size=0.2, random_state=42)\n",
    "\n",
    "# Create a Linear Regression model\n",
    "model = LinearRegression()\n",
    "\n",
    "# Train the model\n",
    "model.fit(X_train, y_train)\n",
    "\n",
    "# Make predictions\n",
    "y_pred = model.predict(X_test)"
   ]
  },
  {
   "cell_type": "code",
   "execution_count": 112,
   "metadata": {},
   "outputs": [
    {
     "name": "stdout",
     "output_type": "stream",
     "text": [
      "Mean Squared Error: 105610447.03207612\n",
      "Root Mean Squared Error: 10276.694363075907\n",
      "R-squared: 0.5207260940124947\n"
     ]
    }
   ],
   "source": [
    "# Calculate MSE and R-squared\n",
    "mse = mean_squared_error(y_test, y_pred)\n",
    "rmse = mse ** 0.5\n",
    "r2 = r2_score(y_test, y_pred)\n",
    "\n",
    "print(\"Mean Squared Error:\", mse)\n",
    "print(\"Root Mean Squared Error:\", rmse)\n",
    "print(\"R-squared:\", r2)"
   ]
  },
  {
   "cell_type": "code",
   "execution_count": 113,
   "metadata": {},
   "outputs": [
    {
     "name": "stdout",
     "output_type": "stream",
     "text": [
      "Coefficients: [7880.29387494 5115.4561641 ]\n"
     ]
    }
   ],
   "source": [
    "coefficients = model.coef_\n",
    "print(\"Coefficients:\", coefficients)"
   ]
  },
  {
   "cell_type": "code",
   "execution_count": 134,
   "metadata": {},
   "outputs": [
    {
     "name": "stdout",
     "output_type": "stream",
     "text": [
      "R-squared (R2) for Actual Sales in 2014: 1.0\n",
      "R-squared (R2) for Predicted Sales in 2014: 0.46126712637909884\n"
     ]
    },
    {
     "data": {
      "image/png": "[encoded data removed]",
      "text/plain": [
       "<Figure size 640x480 with 1 Axes>"
      ]
     },
     "metadata": {},
     "output_type": "display_data"
    }
   ],
   "source": [
    "# Features used during model training\n",
    "features_used_during_training = ['Year', 'Month']\n",
    "\n",
    "# Filter the data for the year 2014\n",
    "sales_df_2014 = sales_df[sales_df['Year'] == 2014]\n",
    "\n",
    "# Extract features (Year and Month) for the year 2014\n",
    "X_2014 = sales_df_2014[features_used_during_training]\n",
    "\n",
    "# Predict the sales for 2014 using the model\n",
    "y_pred_2014 = model.predict(X_2014)\n",
    "\n",
    "# Actual sales for 2014 (assuming you have this data)\n",
    "y_2014 = sales_df_2014['Sales']\n",
    "\n",
    "# Calculate R2 for actual and predicted sales in 2014\n",
    "r2_actual_2014 = r2_score(y_2014, y_2014)  # R2 for actual sales in 2014\n",
    "r2_predicted_2014 = r2_score(y_2014, y_pred_2014)  # R2 for predicted sales in 2014\n",
    "\n",
    "print(\"R-squared (R2) for Actual Sales in 2014:\", r2_actual_2014)\n",
    "print(\"R-squared (R2) for Predicted Sales in 2014:\", r2_predicted_2014)\n",
    "\n",
    "# Create a plot that shows actual sales vs. predicted sales for 2014\n",
    "plt.scatter(X_2014['Month'], y_2014, color='orange', label='Actual')\n",
    "plt.scatter(X_2014['Month'], y_pred_2014, color='black', label='Predicted')\n",
    "plt.xlabel('Month')\n",
    "plt.ylabel('Sales')\n",
    "plt.legend()\n",
    "plt.title('Actual vs. Predicted Sales for 2014')\n",
    "plt.show()\n"
   ]
  },
  {
   "cell_type": "code",
   "execution_count": 135,
   "metadata": {},
   "outputs": [
    {
     "name": "stdout",
     "output_type": "stream",
     "text": [
      "R-squared (R2) for Actual Sales in 2015: 1.0\n",
      "R-squared (R2) for Predicted Sales in 2015: 0.5345407019529858\n"
     ]
    },
    {
     "data": {
      "image/png": "[encoded data removed]",
      "text/plain": [
       "<Figure size 640x480 with 1 Axes>"
      ]
     },
     "metadata": {},
     "output_type": "display_data"
    }
   ],
   "source": [
    "# Features used during model training\n",
    "features_used_during_training = ['Year', 'Month']\n",
    "\n",
    "# Filter the data for the year 2015\n",
    "sales_df_2015 = sales_df[sales_df['Year'] == 2015]\n",
    "\n",
    "# Extract features (Year and Month) for the year 2015\n",
    "X_2015 = sales_df_2015[features_used_during_training]\n",
    "\n",
    "# Predict the sales for 2015 using the model\n",
    "y_pred_2015 = model.predict(X_2015)\n",
    "\n",
    "# Actual sales for 2015 (assuming you have this data)\n",
    "y_2015 = sales_df_2015['Sales']\n",
    "\n",
    "# Calculate R2 for actual and predicted sales in 2015\n",
    "r2_actual_2015 = r2_score(y_2015, y_2015)  # R2 for actual sales in 2015\n",
    "r2_predicted_2015 = r2_score(y_2015, y_pred_2015)  # R2 for predicted sales in 2015\n",
    "\n",
    "print(\"R-squared (R2) for Actual Sales in 2015:\", r2_actual_2015)\n",
    "print(\"R-squared (R2) for Predicted Sales in 2015:\", r2_predicted_2015)\n",
    "\n",
    "# Create a plot that shows actual sales vs. predicted sales for 2015\n",
    "plt.scatter(X_2015['Month'], y_2015, color='orange', label='Actual')\n",
    "plt.scatter(X_2015['Month'], y_pred_2015, color='black', label='Predicted')\n",
    "plt.xlabel('Month')\n",
    "plt.ylabel('Sales')\n",
    "plt.legend()\n",
    "plt.title('Actual vs. Predicted Sales for 2015')\n",
    "plt.show()\n"
   ]
  },
  {
   "cell_type": "code",
   "execution_count": 136,
   "metadata": {},
   "outputs": [
    {
     "name": "stdout",
     "output_type": "stream",
     "text": [
      "R-squared (R2) for Actual Sales in 2016: 1.0\n",
      "R-squared (R2) for Predicted Sales in 2016: 0.6464380835806662\n"
     ]
    },
    {
     "data": {
      "image/png": "[encoded data removed]",
      "text/plain": [
       "<Figure size 640x480 with 1 Axes>"
      ]
     },
     "metadata": {},
     "output_type": "display_data"
    }
   ],
   "source": [
    "# Features used during model training\n",
    "features_used_during_training = ['Year', 'Month']\n",
    "\n",
    "# Filter the data for the year 2016\n",
    "sales_df_2016 = sales_df[sales_df['Year'] == 2016]\n",
    "\n",
    "# Extract features (Year and Month) for the year 2016\n",
    "X_2016 = sales_df_2016[features_used_during_training]\n",
    "\n",
    "# Predict the sales for 2016 using the model\n",
    "y_pred_2016 = model.predict(X_2016)\n",
    "\n",
    "# Actual sales for 2016 (assuming you have this data)\n",
    "y_2016 = sales_df_2016['Sales']\n",
    "\n",
    "# Calculate R2 for actual and predicted sales in 2016\n",
    "r2_actual_2016 = r2_score(y_2016, y_2016)  # R2 for actual sales in 2016\n",
    "r2_predicted_2016 = r2_score(y_2016, y_pred_2016)  # R2 for predicted sales in 2016\n",
    "\n",
    "print(\"R-squared (R2) for Actual Sales in 2016:\", r2_actual_2016)\n",
    "print(\"R-squared (R2) for Predicted Sales in 2016:\", r2_predicted_2016)\n",
    "\n",
    "# Create a plot that shows actual sales vs. predicted sales for 2016\n",
    "plt.scatter(X_2016['Month'], y_2016, color='orange', label='Actual')\n",
    "plt.scatter(X_2016['Month'], y_pred_2016, color='black', label='Predicted')\n",
    "plt.xlabel('Month')\n",
    "plt.ylabel('Sales')\n",
    "plt.legend()\n",
    "plt.title('Actual vs. Predicted Sales for 2016')\n",
    "plt.show()\n"
   ]
  },
  {
   "cell_type": "code",
   "execution_count": 139,
   "metadata": {},
   "outputs": [
    {
     "name": "stdout",
     "output_type": "stream",
     "text": [
      "R-squared (R2) for Actual Sales in 2017: 1.0\n",
      "R-squared (R2) for Predicted Sales in 2017: 0.6595667677532396\n"
     ]
    },
    {
     "data": {
      "image/png": "[encoded data removed]",
      "text/plain": [
       "<Figure size 640x480 with 1 Axes>"
      ]
     },
     "metadata": {},
     "output_type": "display_data"
    }
   ],
   "source": [
    "# Features used during model training\n",
    "features_used_during_training = ['Year', 'Month']\n",
    "\n",
    "# Filter the data for the year 2017\n",
    "sales_df_2017 = sales_df[sales_df['Year'] == 2017]\n",
    "\n",
    "# Extract features (Year and Month) for the year 2017\n",
    "X_2017 = sales_df_2017[features_used_during_training]\n",
    "\n",
    "# Predict the sales for 2017 using the model\n",
    "y_pred_2017 = model.predict(X_2017)\n",
    "\n",
    "# Actual sales for 2017 (assuming you have this data)\n",
    "y_2017 = sales_df_2017['Sales']\n",
    "\n",
    "# Calculate R2 for actual and predicted sales in 2017\n",
    "r2_actual_2017 = r2_score(y_2017, y_2017)  # R2 for actual sales in 2017\n",
    "r2_predicted_2017 = r2_score(y_2017, y_pred_2017)  # R2 for predicted sales in 2017\n",
    "\n",
    "print(\"R-squared (R2) for Actual Sales in 2017:\", r2_actual_2017)\n",
    "print(\"R-squared (R2) for Predicted Sales in 2017:\", r2_predicted_2017)\n",
    "\n",
    "# Create a plot that shows actual sales vs. predicted sales for 2017\n",
    "plt.scatter(X_2017['Month'], y_2017, color='orange', label='Actual')\n",
    "plt.scatter(X_2017['Month'], y_pred_2017, color='black', label='Predicted')\n",
    "plt.xlabel('Month')\n",
    "plt.ylabel('Sales')\n",
    "plt.legend()\n",
    "plt.title('Actual vs. Predicted Sales for 2017')\n",
    "plt.show()\n",
    "\n"
   ]
  },
  {
   "cell_type": "code",
   "execution_count": 100,
   "metadata": {},
   "outputs": [
    {
     "name": "stdout",
     "output_type": "stream",
     "text": [
      "Predicted Sales for January 2024: 87724.57138004713\n"
     ]
    }
   ],
   "source": [
    "# Example: Predict sales for January 2024\n",
    "new_data = pd.DataFrame({'Year': [2024], 'Month': [1]})\n",
    "predicted_sales = model.predict(new_data)\n",
    "print(\"Predicted Sales for January 2024:\", predicted_sales[0])"
   ]
  }
 ],
 "metadata": {
  "kernelspec": {
   "display_name": "base",
   "language": "python",
   "name": "python3"
  },
  "language_info": {
   "codemirror_mode": {
    "name": "ipython",
    "version": 3
   },
   "file_extension": ".py",
   "mimetype": "text/x-python",
   "name": "python",
   "nbconvert_exporter": "python",
   "pygments_lexer": "ipython3",
   "version": "3.10.9"
  },
  "orig_nbformat": 4
 },
 "nbformat": 4,
 "nbformat_minor": 2
}
